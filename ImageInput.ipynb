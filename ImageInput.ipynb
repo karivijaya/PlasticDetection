{
 "cells": [
  {
   "cell_type": "code",
   "execution_count": 9,
   "id": "e93ead8f",
   "metadata": {},
   "outputs": [],
   "source": [
    "import tensorflow as tf\n",
    "from tensorflow.keras.models import load_model\n",
    "import numpy as np\n",
    "import cv2"
   ]
  },
  {
   "cell_type": "code",
   "execution_count": 10,
   "id": "972f2e95",
   "metadata": {},
   "outputs": [],
   "source": [
    "plastic = ['PlasticOnWaterSurface', 'PlasticUnderWater', 'NoPlastic'] "
   ]
  },
  {
   "cell_type": "code",
   "execution_count": 11,
   "id": "70fd8cdf",
   "metadata": {},
   "outputs": [],
   "source": [
    "model = load_model('finalver.h5')"
   ]
  },
  {
   "cell_type": "code",
   "execution_count": 12,
   "id": "8e107e6c",
   "metadata": {},
   "outputs": [],
   "source": [
    "image = cv2.imread('../Dataset/Input/PlasticOnWaterSurface/download.jpg')\n",
    "image = cv2.resize(image, (224, 224))\n",
    "image = np.expand_dims(image, axis=0)\n",
    "image = image.astype('float32') / 255.0"
   ]
  },
  {
   "cell_type": "code",
   "execution_count": 13,
   "id": "493405da",
   "metadata": {},
   "outputs": [
    {
     "name": "stdout",
     "output_type": "stream",
     "text": [
      "1/1 [==============================] - 0s 331ms/step\n"
     ]
    }
   ],
   "source": [
    "predictions = model.predict(image)"
   ]
  },
  {
   "cell_type": "code",
   "execution_count": 14,
   "id": "2240edcf",
   "metadata": {},
   "outputs": [
    {
     "name": "stdout",
     "output_type": "stream",
     "text": [
      "PlasticOnWaterSurface 0\n"
     ]
    }
   ],
   "source": [
    "predicted_category = np.argmax(predictions, axis=1)\n",
    "index = predicted_category[0]\n",
    "print(plastic[index], index)"
   ]
  },
  {
   "cell_type": "code",
   "execution_count": 15,
   "id": "ef6938f5",
   "metadata": {},
   "outputs": [
    {
     "name": "stdout",
     "output_type": "stream",
     "text": [
      "1/1 [==============================] - 0s 54ms/step\n",
      "PlasticOnWaterSurface [0]\n"
     ]
    }
   ],
   "source": [
    "image = cv2.imread('../Dataset/Input/NoPlastic/download.jpg')\n",
    "image = cv2.resize(image, (224, 224))\n",
    "image = np.expand_dims(image, axis=0)\n",
    "image = image.astype('float32') / 255.0\n",
    "predictions = model.predict(image)\n",
    "predicted_category = np.argmax(predictions, axis=1)\n",
    "index = predicted_category[0]\n",
    "print(plastic[index], predicted_category)"
   ]
  },
  {
   "cell_type": "code",
   "execution_count": 16,
   "id": "89487e87",
   "metadata": {},
   "outputs": [
    {
     "name": "stdout",
     "output_type": "stream",
     "text": [
      "1/1 [==============================] - 0s 38ms/step\n",
      "PlasticUnderWater [1]\n"
     ]
    }
   ],
   "source": [
    "image = cv2.imread('../Dataset/Input/PlasticUnderWater/download.jpg')\n",
    "image = cv2.resize(image, (224, 224))\n",
    "image = np.expand_dims(image, axis=0)\n",
    "image = image.astype('float32') / 255.0\n",
    "predictions = model.predict(image)\n",
    "predicted_category = np.argmax(predictions, axis=1)\n",
    "index = predicted_category[0]\n",
    "print(plastic[index], predicted_category)"
   ]
  },
  {
   "cell_type": "code",
   "execution_count": null,
   "id": "cf276b39",
   "metadata": {},
   "outputs": [],
   "source": []
  }
 ],
 "metadata": {
  "kernelspec": {
   "display_name": "Python 3 (ipykernel)",
   "language": "python",
   "name": "python3"
  },
  "language_info": {
   "codemirror_mode": {
    "name": "ipython",
    "version": 3
   },
   "file_extension": ".py",
   "mimetype": "text/x-python",
   "name": "python",
   "nbconvert_exporter": "python",
   "pygments_lexer": "ipython3",
   "version": "3.10.11"
  }
 },
 "nbformat": 4,
 "nbformat_minor": 5
}
